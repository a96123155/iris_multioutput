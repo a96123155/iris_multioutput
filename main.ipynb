{
 "cells": [
  {
   "cell_type": "code",
   "execution_count": 1,
   "metadata": {},
   "outputs": [
    {
     "name": "stderr",
     "output_type": "stream",
     "text": [
      "Using TensorFlow backend.\n"
     ]
    }
   ],
   "source": [
    "import pandas as pd\n",
    "import numpy as np\n",
    "from keras.models import Model,Sequential\n",
    "from keras.layers import Input,Dense\n",
    "from keras.wrappers.scikit_learn import KerasClassifier\n",
    "from keras.utils import np_utils\n",
    "from sklearn.model_selection import cross_val_score\n",
    "from sklearn.model_selection import KFold\n",
    "from sklearn.preprocessing import LabelEncoder\n",
    "from sklearn.pipeline import Pipeline\n",
    "from keras.callbacks import ModelCheckpoint, EarlyStopping\n",
    "from sklearn.model_selection import train_test_split"
   ]
  },
  {
   "cell_type": "code",
   "execution_count": 2,
   "metadata": {},
   "outputs": [],
   "source": [
    "data = pd.read_csv(\"iris.data\", header=None)\n",
    "#X = dataset[:,0:4].astype(float)\n",
    "#Y = dataset[:,4]"
   ]
  },
  {
   "cell_type": "code",
   "execution_count": 3,
   "metadata": {},
   "outputs": [],
   "source": [
    "data.columns = ['f1', 'f2', 'f3', 'f4','class']"
   ]
  },
  {
   "cell_type": "code",
   "execution_count": 4,
   "metadata": {},
   "outputs": [],
   "source": [
    "X = data.loc[:,['f1','f2','f3','f4']]"
   ]
  },
  {
   "cell_type": "code",
   "execution_count": 5,
   "metadata": {},
   "outputs": [],
   "source": [
    "y1 = data.loc[:,['class']]"
   ]
  },
  {
   "cell_type": "code",
   "execution_count": 6,
   "metadata": {},
   "outputs": [],
   "source": [
    "#y1.values"
   ]
  },
  {
   "cell_type": "code",
   "execution_count": 7,
   "metadata": {},
   "outputs": [
    {
     "data": {
      "text/plain": [
       "'\\nnow I am adding a regression value to each class so that I can implement\\nclassification and regression in the same model.\\nClasses are flower types:\\nIris-setosa, Iris-versicolor,Iris-virginica\\n\\nSo I am adding another output of flower price in INR. In my opinion, Iris-versicolor\\nflowers look the best, then Iris-virginica and then Iris-setosa\\nSo, these values will come from particular normal distributions N(mu,sigma)\\n\\nIris-setosa     = N(10, 2)\\nIris-versicolor = N(30, 2)\\nIris-virginica  = N(20, 2)\\n\\n\\n'"
      ]
     },
     "execution_count": 7,
     "metadata": {},
     "output_type": "execute_result"
    }
   ],
   "source": [
    "'''\n",
    "now I am adding a regression value to each class so that I can implement\n",
    "classification and regression in the same model.\n",
    "Classes are flower types:\n",
    "Iris-setosa, Iris-versicolor,Iris-virginica\n",
    "\n",
    "So I am adding another output of flower price in INR. In my opinion, Iris-versicolor\n",
    "flowers look the best, then Iris-virginica and then Iris-setosa\n",
    "So, these values will come from particular normal distributions N(mu,sigma)\n",
    "\n",
    "Iris-setosa     = N(10, 2)\n",
    "Iris-versicolor = N(30, 2)\n",
    "Iris-virginica  = N(20, 2)\n",
    "\n",
    "\n",
    "'''\n"
   ]
  },
  {
   "cell_type": "code",
   "execution_count": 8,
   "metadata": {},
   "outputs": [],
   "source": [
    "price_setosa = np.random.normal(10, 2, 50)\n",
    "price_versicolor = np.random.normal(30, 2, 50)\n",
    "price_virginica = np.random.normal(20, 2, 50)"
   ]
  },
  {
   "cell_type": "code",
   "execution_count": 9,
   "metadata": {},
   "outputs": [
    {
     "data": {
      "text/plain": [
       "array([10.39431155, 10.23521439,  9.752962  , 10.4545211 , 10.08270629,\n",
       "        9.07581565, 10.52317726,  6.88078101,  9.39544959, 10.569975  ,\n",
       "        8.17879649,  9.55466383,  6.67563498, 12.92822657,  8.28297962,\n",
       "        9.29561858,  9.95452394,  8.20207926,  6.73971731, 12.97270647,\n",
       "       13.91838987,  8.5408947 ,  8.09707689, 10.22695383,  9.66285577,\n",
       "       10.91214416,  9.5265975 ,  9.80511761,  9.8050135 ,  5.97453305,\n",
       "        9.62645591,  8.13866625, 13.09251081, 13.17493483, 11.48091931,\n",
       "       10.43711817,  7.37377341, 12.99878288,  8.42664842, 10.20644255,\n",
       "       12.2181329 ,  9.55149663, 12.24654915, 10.45565988, 12.31417743,\n",
       "        8.88466582,  7.28147016, 11.33433278,  7.96684422, 13.07643684])"
      ]
     },
     "execution_count": 9,
     "metadata": {},
     "output_type": "execute_result"
    }
   ],
   "source": [
    "price_setosa"
   ]
  },
  {
   "cell_type": "code",
   "execution_count": 10,
   "metadata": {},
   "outputs": [
    {
     "data": {
      "text/plain": [
       "array([28.15493101, 28.36328231, 33.15959938, 31.0356771 , 32.17931077,\n",
       "       28.21844302, 28.02495353, 26.27508107, 31.34873796, 34.34801632,\n",
       "       32.28642603, 33.87078192, 34.32090826, 25.62202999, 28.44216386,\n",
       "       30.4995459 , 30.59062235, 26.80123546, 28.82044105, 31.10679643,\n",
       "       29.81998631, 26.89027428, 31.55221394, 30.74021715, 26.02746511,\n",
       "       29.2564338 , 28.31847599, 32.81123493, 30.37534072, 31.46690674,\n",
       "       31.08454488, 22.74191947, 27.14049423, 29.43516228, 28.07465169,\n",
       "       31.99394319, 30.72368611, 25.78618032, 30.11886164, 30.72778879,\n",
       "       29.18475711, 30.36010009, 30.27819296, 31.65394457, 30.94236883,\n",
       "       31.8776714 , 28.42897151, 32.28775605, 32.23579114, 27.69622114])"
      ]
     },
     "execution_count": 10,
     "metadata": {},
     "output_type": "execute_result"
    }
   ],
   "source": [
    "price_versicolor"
   ]
  },
  {
   "cell_type": "code",
   "execution_count": 11,
   "metadata": {},
   "outputs": [
    {
     "data": {
      "text/plain": [
       "array([20.09415976, 21.51994588, 17.53180541, 21.65682567, 21.12973557,\n",
       "       19.51264767, 22.05512716, 18.45020894, 15.92840357, 21.05530426,\n",
       "       21.3986032 , 22.19377626, 20.70704654, 20.09952345, 20.19571804,\n",
       "       21.98075567, 19.62998535, 21.80528506, 22.70952158, 24.60410901,\n",
       "       18.55559213, 18.56212526, 18.75801624, 21.57851071, 19.269083  ,\n",
       "       20.09280057, 22.78527978, 22.92384195, 21.30967355, 22.06131389,\n",
       "       21.52906612, 20.29892554, 18.66220668, 18.6883969 , 17.84121474,\n",
       "       21.15717493, 20.17997989, 16.7619327 , 24.15476533, 20.03180259,\n",
       "       18.63423553, 16.72186575, 19.12355258, 20.08385074, 17.67191239,\n",
       "       21.77067813, 17.92270279, 18.93361997, 19.90002493, 17.01189165])"
      ]
     },
     "execution_count": 11,
     "metadata": {},
     "output_type": "execute_result"
    }
   ],
   "source": [
    "price_virginica"
   ]
  },
  {
   "cell_type": "code",
   "execution_count": 12,
   "metadata": {},
   "outputs": [],
   "source": [
    "iris_price = np.concatenate((price_setosa,price_versicolor,price_virginica))"
   ]
  },
  {
   "cell_type": "code",
   "execution_count": 13,
   "metadata": {},
   "outputs": [],
   "source": [
    "iris_price = pd.DataFrame(iris_price, columns=['price'])"
   ]
  },
  {
   "cell_type": "code",
   "execution_count": 14,
   "metadata": {},
   "outputs": [
    {
     "data": {
      "text/html": [
       "<div>\n",
       "<style scoped>\n",
       "    .dataframe tbody tr th:only-of-type {\n",
       "        vertical-align: middle;\n",
       "    }\n",
       "\n",
       "    .dataframe tbody tr th {\n",
       "        vertical-align: top;\n",
       "    }\n",
       "\n",
       "    .dataframe thead th {\n",
       "        text-align: right;\n",
       "    }\n",
       "</style>\n",
       "<table border=\"1\" class=\"dataframe\">\n",
       "  <thead>\n",
       "    <tr style=\"text-align: right;\">\n",
       "      <th></th>\n",
       "      <th>price</th>\n",
       "    </tr>\n",
       "  </thead>\n",
       "  <tbody>\n",
       "    <tr>\n",
       "      <td>0</td>\n",
       "      <td>10.394312</td>\n",
       "    </tr>\n",
       "    <tr>\n",
       "      <td>1</td>\n",
       "      <td>10.235214</td>\n",
       "    </tr>\n",
       "    <tr>\n",
       "      <td>2</td>\n",
       "      <td>9.752962</td>\n",
       "    </tr>\n",
       "    <tr>\n",
       "      <td>3</td>\n",
       "      <td>10.454521</td>\n",
       "    </tr>\n",
       "    <tr>\n",
       "      <td>4</td>\n",
       "      <td>10.082706</td>\n",
       "    </tr>\n",
       "    <tr>\n",
       "      <td>...</td>\n",
       "      <td>...</td>\n",
       "    </tr>\n",
       "    <tr>\n",
       "      <td>145</td>\n",
       "      <td>21.770678</td>\n",
       "    </tr>\n",
       "    <tr>\n",
       "      <td>146</td>\n",
       "      <td>17.922703</td>\n",
       "    </tr>\n",
       "    <tr>\n",
       "      <td>147</td>\n",
       "      <td>18.933620</td>\n",
       "    </tr>\n",
       "    <tr>\n",
       "      <td>148</td>\n",
       "      <td>19.900025</td>\n",
       "    </tr>\n",
       "    <tr>\n",
       "      <td>149</td>\n",
       "      <td>17.011892</td>\n",
       "    </tr>\n",
       "  </tbody>\n",
       "</table>\n",
       "<p>150 rows × 1 columns</p>\n",
       "</div>"
      ],
      "text/plain": [
       "         price\n",
       "0    10.394312\n",
       "1    10.235214\n",
       "2     9.752962\n",
       "3    10.454521\n",
       "4    10.082706\n",
       "..         ...\n",
       "145  21.770678\n",
       "146  17.922703\n",
       "147  18.933620\n",
       "148  19.900025\n",
       "149  17.011892\n",
       "\n",
       "[150 rows x 1 columns]"
      ]
     },
     "execution_count": 14,
     "metadata": {},
     "output_type": "execute_result"
    }
   ],
   "source": [
    "iris_price"
   ]
  },
  {
   "cell_type": "code",
   "execution_count": 15,
   "metadata": {},
   "outputs": [
    {
     "data": {
      "text/plain": [
       "'\\n\\nnow we have set up all the variables, now we can make the model\\n\\n'"
      ]
     },
     "execution_count": 15,
     "metadata": {},
     "output_type": "execute_result"
    }
   ],
   "source": [
    "\"\"\"\n",
    "\n",
    "now we have set up all the variables, now we can make the model\n",
    "\n",
    "\"\"\""
   ]
  },
  {
   "cell_type": "code",
   "execution_count": 16,
   "metadata": {},
   "outputs": [
    {
     "name": "stderr",
     "output_type": "stream",
     "text": [
      "/home/xinfy/anaconda3/lib/python3.7/site-packages/sklearn/preprocessing/label.py:235: DataConversionWarning: A column-vector y was passed when a 1d array was expected. Please change the shape of y to (n_samples, ), for example using ravel().\n",
      "  y = column_or_1d(y, warn=True)\n"
     ]
    }
   ],
   "source": [
    "encoder = LabelEncoder()\n",
    "y_class = encoder.fit_transform(y1)\n",
    "# convert integers to dummy variables (i.e. one hot encoded)\n",
    "y_class = np_utils.to_categorical(y_class)"
   ]
  },
  {
   "cell_type": "code",
   "execution_count": 17,
   "metadata": {},
   "outputs": [],
   "source": [
    "# one hot done for the y_class variable"
   ]
  },
  {
   "cell_type": "code",
   "execution_count": 18,
   "metadata": {},
   "outputs": [
    {
     "data": {
      "text/plain": [
       "(150, 4)"
      ]
     },
     "execution_count": 18,
     "metadata": {},
     "output_type": "execute_result"
    }
   ],
   "source": [
    "X.shape"
   ]
  },
  {
   "cell_type": "code",
   "execution_count": 19,
   "metadata": {},
   "outputs": [
    {
     "data": {
      "text/plain": [
       "(150, 3)"
      ]
     },
     "execution_count": 19,
     "metadata": {},
     "output_type": "execute_result"
    }
   ],
   "source": [
    "y_class.shape"
   ]
  },
  {
   "cell_type": "code",
   "execution_count": 20,
   "metadata": {},
   "outputs": [],
   "source": [
    "y_reg = np.array(iris_price)"
   ]
  },
  {
   "cell_type": "code",
   "execution_count": 21,
   "metadata": {},
   "outputs": [
    {
     "data": {
      "text/plain": [
       "(150, 1)"
      ]
     },
     "execution_count": 21,
     "metadata": {},
     "output_type": "execute_result"
    }
   ],
   "source": [
    "y_reg.shape"
   ]
  },
  {
   "cell_type": "code",
   "execution_count": 22,
   "metadata": {},
   "outputs": [],
   "source": [
    "#make train-test split"
   ]
  },
  {
   "cell_type": "code",
   "execution_count": 23,
   "metadata": {},
   "outputs": [],
   "source": [
    "indices  = range(X.shape[0])\n",
    "X_train, X_test, y_class_train, y_class_test, y_reg_train, y_reg_test, idx_train, idx_test = train_test_split(X, y_class, y_reg, indices, test_size=0.2, random_state=111)"
   ]
  },
  {
   "cell_type": "code",
   "execution_count": 24,
   "metadata": {},
   "outputs": [
    {
     "data": {
      "text/plain": [
       "((120, 4), (120, 3), (120, 1))"
      ]
     },
     "execution_count": 24,
     "metadata": {},
     "output_type": "execute_result"
    }
   ],
   "source": [
    "X_train.shape, y_class_train.shape, y_reg_train.shape"
   ]
  },
  {
   "cell_type": "code",
   "execution_count": 25,
   "metadata": {},
   "outputs": [
    {
     "data": {
      "text/plain": [
       "((30, 4), (30, 3), (30, 1))"
      ]
     },
     "execution_count": 25,
     "metadata": {},
     "output_type": "execute_result"
    }
   ],
   "source": [
    "X_test.shape, y_class_test.shape, y_reg_test.shape"
   ]
  },
  {
   "cell_type": "code",
   "execution_count": 48,
   "metadata": {},
   "outputs": [],
   "source": [
    "try:\n",
    "    del model\n",
    "except:\n",
    "    pass"
   ]
  },
  {
   "cell_type": "code",
   "execution_count": 49,
   "metadata": {},
   "outputs": [],
   "source": [
    "# model define\n",
    "input_1 = Input(shape=(4,), name='input')\n",
    "dense_1 = Dense(8, activation='relu')(input_1)\n",
    "dense_2 = Dense(8, activation='relu')(dense_1)\n",
    "\n",
    "#classification output below\n",
    "output_1 = Dense(3, activation='softmax', name='class_output')(dense_2)\n",
    "\n",
    "#regression output below\n",
    "\n",
    "output_2 = Dense(1, activation='linear',name='reg_output')(dense_1)\n",
    "\n",
    "#model define\n",
    "model = Model(inputs=[input_1], outputs=[output_1, output_2])"
   ]
  },
  {
   "cell_type": "code",
   "execution_count": 50,
   "metadata": {},
   "outputs": [],
   "source": [
    "model.compile(optimizer='adam',\n",
    "              loss={'class_output': 'categorical_crossentropy', 'reg_output': 'mse'},\n",
    "              loss_weights={'class_output': 1., 'reg_output': 0.025},\n",
    "              metrics={'class_output':'accuracy','reg_output':'mse'})"
   ]
  },
  {
   "cell_type": "code",
   "execution_count": 51,
   "metadata": {},
   "outputs": [],
   "source": [
    "model_checkpoint = ModelCheckpoint('checkpoint.hdf5', monitor='val_loss', verbose=0, save_best_only=True, mode='min')"
   ]
  },
  {
   "cell_type": "code",
   "execution_count": 52,
   "metadata": {},
   "outputs": [],
   "source": [
    "early_stopping = EarlyStopping(monitor='val_loss', patience=50)"
   ]
  },
  {
   "cell_type": "code",
   "execution_count": 53,
   "metadata": {},
   "outputs": [],
   "source": [
    "try:\n",
    "    del history\n",
    "except:\n",
    "    pass"
   ]
  },
  {
   "cell_type": "code",
   "execution_count": 54,
   "metadata": {},
   "outputs": [],
   "source": [
    "history = model.fit({'input': X_train},\n",
    "                {'class_output': y_class_train, 'reg_output': y_reg_train}, \n",
    "                validation_data=({'input': X_test},{'class_output': y_class_test, 'reg_output': y_reg_test}),callbacks=[model_checkpoint,early_stopping],\n",
    "                epochs=300, batch_size=32,verbose=0)"
   ]
  },
  {
   "cell_type": "code",
   "execution_count": 55,
   "metadata": {},
   "outputs": [],
   "source": [
    "#change verbose to print during training"
   ]
  },
  {
   "cell_type": "code",
   "execution_count": 33,
   "metadata": {},
   "outputs": [],
   "source": [
    "import matplotlib.pyplot as plt\n",
    "import matplotlib"
   ]
  },
  {
   "cell_type": "code",
   "execution_count": 56,
   "metadata": {},
   "outputs": [
    {
     "data": {
      "image/png": "[encoded data removed]",
      "text/plain": [
       "<Figure size 864x864 with 4 Axes>"
      ]
     },
     "metadata": {
      "needs_background": "light"
     },
     "output_type": "display_data"
    }
   ],
   "source": [
    "fig = plt.figure(figsize=(12,12))\n",
    "plt.subplot(2, 2, 1)\n",
    "#plt.plot(history.history['loss'])\n",
    "plt.plot(history.history['class_output_loss'])\n",
    "plt.plot(history.history['val_class_output_loss'])\n",
    "plt.title(\"classification loss\")\n",
    "plt.ylabel(\"Classification Losses\")\n",
    "plt.xlabel(\"Epoch\")\n",
    "plt.legend([\"Training Classification Loss\",\"Valid Classification Loss\"])\n",
    "plt.subplot(2, 2, 2)\n",
    "plt.plot(history.history['reg_output_loss'])\n",
    "plt.plot(history.history['val_reg_output_loss'])\n",
    "plt.title(\"regression losses\")\n",
    "plt.ylabel(\"Regression Losses\")\n",
    "plt.xlabel(\"Epoch\")\n",
    "plt.legend([\"Training Regression Loss\",\"Valid Regression Loss\"])\n",
    "plt.subplot(2, 2, 3)\n",
    "plt.plot(history.history['class_output_accuracy'])\n",
    "plt.plot(history.history['val_class_output_accuracy'])\n",
    "plt.title(\"classification accuracy\")\n",
    "plt.ylabel(\"Classification Accuracy\")\n",
    "plt.xlabel(\"Epoch\")\n",
    "plt.legend([\"Training Classification Accuracy\",\"Valid Classification Accuracy\"])\n",
    "plt.subplot(2, 2, 4)\n",
    "plt.plot(history.history['reg_output_mse'])\n",
    "plt.plot(history.history['val_reg_output_mse'])\n",
    "plt.title(\"regression mse\")\n",
    "plt.ylabel(\"Regression MSE\")\n",
    "plt.xlabel(\"Epoch\")\n",
    "plt.legend([\"Training Regression MSE\",\"Valid Regression MSE\"])\n",
    "#plt.show()\n",
    "plt.savefig('loss_accuracy.png', bbox_inches='tight')"
   ]
  },
  {
   "cell_type": "code",
   "execution_count": 357,
   "metadata": {},
   "outputs": [
    {
     "data": {
      "text/plain": [
       "<Figure size 432x288 with 0 Axes>"
      ]
     },
     "metadata": {},
     "output_type": "display_data"
    }
   ],
   "source": []
  },
  {
   "cell_type": "code",
   "execution_count": 57,
   "metadata": {},
   "outputs": [
    {
     "data": {
      "image/png": "[encoded data removed]",
      "text/plain": [
       "<Figure size 360x360 with 1 Axes>"
      ]
     },
     "metadata": {
      "needs_background": "light"
     },
     "output_type": "display_data"
    }
   ],
   "source": [
    "fig = plt.figure(figsize=(5,5))\n",
    "plt.plot(history.history['loss'])\n",
    "plt.plot(history.history['val_loss'])\n",
    "plt.title(\"total loss\")\n",
    "plt.ylabel(\"total Losses\")\n",
    "plt.xlabel(\"Epoch\")\n",
    "plt.legend([\"Training total Loss\",\"Valid total Loss\"])\n",
    "plt.show()"
   ]
  },
  {
   "cell_type": "code",
   "execution_count": 36,
   "metadata": {},
   "outputs": [],
   "source": [
    "#prediction on test data"
   ]
  },
  {
   "cell_type": "code",
   "execution_count": 37,
   "metadata": {},
   "outputs": [],
   "source": [
    "from sklearn import metrics"
   ]
  },
  {
   "cell_type": "code",
   "execution_count": null,
   "metadata": {},
   "outputs": [],
   "source": []
  },
  {
   "cell_type": "code",
   "execution_count": 58,
   "metadata": {},
   "outputs": [],
   "source": [
    "#load best model\n",
    "from keras.models import load_model\n",
    "best_model = load_model('checkpoint.hdf5')"
   ]
  },
  {
   "cell_type": "code",
   "execution_count": 59,
   "metadata": {},
   "outputs": [],
   "source": [
    "y_prediction = best_model.predict(X_test,verbose=0, batch_size = 32)"
   ]
  },
  {
   "cell_type": "code",
   "execution_count": 60,
   "metadata": {},
   "outputs": [],
   "source": [
    "y_pred_classes, y_pred_reg = y_prediction[0],y_prediction[1]"
   ]
  },
  {
   "cell_type": "code",
   "execution_count": 61,
   "metadata": {},
   "outputs": [
    {
     "data": {
      "text/plain": [
       "array([0, 0, 2, 2, 1, 0, 0, 2, 2, 1, 2, 0, 2, 2, 2, 0, 2, 1, 0, 2, 1, 2,\n",
       "       1, 1, 2, 0, 0, 2, 0, 2])"
      ]
     },
     "execution_count": 61,
     "metadata": {},
     "output_type": "execute_result"
    }
   ],
   "source": [
    "#predicted\n",
    "ypc_m = np.argmax(y_pred_classes, axis=1)\n",
    "ypc_m"
   ]
  },
  {
   "cell_type": "code",
   "execution_count": 62,
   "metadata": {},
   "outputs": [
    {
     "data": {
      "text/plain": [
       "array([0, 0, 2, 2, 1, 0, 0, 2, 2, 1, 2, 0, 2, 2, 2, 0, 2, 1, 0, 2, 1, 2,\n",
       "       1, 1, 2, 0, 0, 1, 0, 2])"
      ]
     },
     "execution_count": 62,
     "metadata": {},
     "output_type": "execute_result"
    }
   ],
   "source": [
    "#actual\n",
    "yct_m = np.argmax(y_class_test, axis=1)\n",
    "yct_m"
   ]
  },
  {
   "cell_type": "code",
   "execution_count": 63,
   "metadata": {},
   "outputs": [
    {
     "name": "stdout",
     "output_type": "stream",
     "text": [
      "[[10  0  0]\n",
      " [ 0  6  1]\n",
      " [ 0  0 13]]\n"
     ]
    }
   ],
   "source": [
    "print(metrics.confusion_matrix(yct_m, ypc_m))"
   ]
  },
  {
   "cell_type": "code",
   "execution_count": 64,
   "metadata": {},
   "outputs": [
    {
     "name": "stdout",
     "output_type": "stream",
     "text": [
      "              precision    recall  f1-score   support\n",
      "\n",
      "           0      1.000     1.000     1.000        10\n",
      "           1      1.000     0.857     0.923         7\n",
      "           2      0.929     1.000     0.963        13\n",
      "\n",
      "    accuracy                          0.967        30\n",
      "   macro avg      0.976     0.952     0.962        30\n",
      "weighted avg      0.969     0.967     0.966        30\n",
      "\n"
     ]
    }
   ],
   "source": [
    "print(metrics.classification_report(yct_m, ypc_m, digits=3))"
   ]
  },
  {
   "cell_type": "code",
   "execution_count": 65,
   "metadata": {},
   "outputs": [],
   "source": [
    "from keras.utils.vis_utils import plot_model"
   ]
  },
  {
   "cell_type": "code",
   "execution_count": 66,
   "metadata": {},
   "outputs": [
    {
     "data": {
      "image/png": "[encoded data removed]",
      "text/plain": [
       "<IPython.core.display.Image object>"
      ]
     },
     "execution_count": 66,
     "metadata": {},
     "output_type": "execute_result"
    }
   ],
   "source": [
    "plot_model(model, to_file='model_plot.png', show_shapes=True, show_layer_names=True)"
   ]
  },
  {
   "cell_type": "code",
   "execution_count": null,
   "metadata": {},
   "outputs": [],
   "source": []
  }
 ],
 "metadata": {
  "kernelspec": {
   "display_name": "Python 3",
   "language": "python",
   "name": "python3"
  },
  "language_info": {
   "codemirror_mode": {
    "name": "ipython",
    "version": 3
   },
   "file_extension": ".py",
   "mimetype": "text/x-python",
   "name": "python",
   "nbconvert_exporter": "python",
   "pygments_lexer": "ipython3",
   "version": "3.7.4"
  }
 },
 "nbformat": 4,
 "nbformat_minor": 4
}
